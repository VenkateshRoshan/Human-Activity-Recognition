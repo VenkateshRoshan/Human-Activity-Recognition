{
 "cells": [
  {
   "cell_type": "code",
   "execution_count": 9,
   "metadata": {},
   "outputs": [],
   "source": [
    "import tensorflow as tf"
   ]
  },
  {
   "cell_type": "raw",
   "metadata": {},
   "source": [
    "model = tf.keras.models.load_model('D:/Human Activity Recognition/Human_Activity.h5')\n",
    "converter = tf.lite.TFLiteConverter.from_keras_model(model) \n",
    "tflite_model = converter.convert()\n",
    "open(\"Human_Activity.tflite\", \"wb\").write(tflite_model)"
   ]
  },
  {
   "cell_type": "code",
   "execution_count": 10,
   "metadata": {},
   "outputs": [],
   "source": [
    "interpreter = tf.lite.Interpreter(model_path=\"Human_Activity.tflite\")\n",
    "\n",
    "interpreter.allocate_tensors()"
   ]
  },
  {
   "cell_type": "code",
   "execution_count": 14,
   "metadata": {
    "scrolled": true
   },
   "outputs": [
    {
     "data": {
      "text/plain": [
       "['__class__',\n",
       " '__del__',\n",
       " '__delattr__',\n",
       " '__dict__',\n",
       " '__dir__',\n",
       " '__doc__',\n",
       " '__eq__',\n",
       " '__format__',\n",
       " '__ge__',\n",
       " '__getattribute__',\n",
       " '__gt__',\n",
       " '__hash__',\n",
       " '__init__',\n",
       " '__init_subclass__',\n",
       " '__le__',\n",
       " '__lt__',\n",
       " '__module__',\n",
       " '__ne__',\n",
       " '__new__',\n",
       " '__reduce__',\n",
       " '__reduce_ex__',\n",
       " '__repr__',\n",
       " '__setattr__',\n",
       " '__sizeof__',\n",
       " '__str__',\n",
       " '__subclasshook__',\n",
       " '__weakref__',\n",
       " '_custom_op_registerers',\n",
       " '_delegates',\n",
       " '_ensure_safe',\n",
       " '_get_op_details',\n",
       " '_get_ops_details',\n",
       " '_get_tensor_details',\n",
       " '_interpreter',\n",
       " '_safe_to_run',\n",
       " '_tf_api_names',\n",
       " '_tf_api_names_v1',\n",
       " 'allocate_tensors',\n",
       " 'get_input_details',\n",
       " 'get_output_details',\n",
       " 'get_tensor',\n",
       " 'get_tensor_details',\n",
       " 'invoke',\n",
       " 'reset_all_variables',\n",
       " 'resize_tensor_input',\n",
       " 'set_tensor',\n",
       " 'tensor']"
      ]
     },
     "execution_count": 14,
     "metadata": {},
     "output_type": "execute_result"
    }
   ],
   "source": [
    "dir(interpreter)"
   ]
  },
  {
   "cell_type": "code",
   "execution_count": 11,
   "metadata": {},
   "outputs": [],
   "source": [
    "def predict_classes(tf_lite_interpreter, y):\n",
    "    input_details = interpreter.get_input_details()\n",
    "    output_details= interpreter.get_output_details()\n",
    "    tf_lite_interpreter.set_tensor(input_details[0]['index'], y)\n",
    "    tf_lite_interpreter.invoke()\n",
    "    tflite_results = tf_lite_interpreter.get_tensor(output_details[0]['index'])\n",
    "    if tflite_results.shape[-1] > 1:\n",
    "        tflite_results = tflite_results.argmax(axis=-1)\n",
    "    else:\n",
    "        tflite_results = (tflite_results > 0.5).astype('int32')\n",
    "    return tflite_results"
   ]
  },
  {
   "cell_type": "code",
   "execution_count": 12,
   "metadata": {},
   "outputs": [],
   "source": [
    "import numpy as np\n",
    "import tensorflow as tf\n",
    "from tensorflow.keras import layers , models\n",
    "import os\n",
    "import cv2\n",
    "from matplotlib import pyplot as plt"
   ]
  },
  {
   "cell_type": "code",
   "execution_count": 13,
   "metadata": {},
   "outputs": [
    {
     "name": "stdout",
     "output_type": "stream",
     "text": [
      "0\n"
     ]
    }
   ],
   "source": [
    "img = cv2.imread('smoking_1.jpg')\n",
    "img = cv2.resize(img,(224,224))\n",
    "tst = []\n",
    "tst.append(img)\n",
    "tst = np.array(tst,dtype=np.float32)/255.\n",
    "print(predict_classes(interpreter,tst)[0][0])"
   ]
  },
  {
   "cell_type": "code",
   "execution_count": null,
   "metadata": {},
   "outputs": [],
   "source": []
  }
 ],
 "metadata": {
  "kernelspec": {
   "display_name": "Python 3",
   "language": "python",
   "name": "python3"
  },
  "language_info": {
   "codemirror_mode": {
    "name": "ipython",
    "version": 3
   },
   "file_extension": ".py",
   "mimetype": "text/x-python",
   "name": "python",
   "nbconvert_exporter": "python",
   "pygments_lexer": "ipython3",
   "version": "3.8.3"
  }
 },
 "nbformat": 4,
 "nbformat_minor": 4
}
